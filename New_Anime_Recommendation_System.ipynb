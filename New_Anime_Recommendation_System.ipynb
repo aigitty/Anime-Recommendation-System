{
  "nbformat": 4,
  "nbformat_minor": 0,
  "metadata": {
    "colab": {
      "provenance": []
    },
    "kernelspec": {
      "name": "python3",
      "display_name": "Python 3"
    },
    "language_info": {
      "name": "python"
    }
  },
  "cells": [
    {
      "cell_type": "code",
      "execution_count": null,
      "metadata": {
        "id": "8spQ-m1H8TAK"
      },
      "outputs": [],
      "source": [
        "import numpy as np\n",
        "import pandas as pd\n",
        "from sklearn.preprocessing import StandardScaler\n",
        "from sklearn.cluster import KMeans\n",
        "from scipy.spatial import distance"
      ]
    },
    {
      "cell_type": "code",
      "source": [
        "# Load the anime dataset\n",
        "data = pd.read_csv('anime.csv')"
      ],
      "metadata": {
        "id": "9-Mk1_u-_6H8"
      },
      "execution_count": null,
      "outputs": []
    },
    {
      "cell_type": "code",
      "source": [
        "data.head()"
      ],
      "metadata": {
        "colab": {
          "base_uri": "https://localhost:8080/",
          "height": 206
        },
        "id": "FoKd3FS-_-xS",
        "outputId": "5bebf96c-2f68-4785-9e4b-a693c606cbe5"
      },
      "execution_count": null,
      "outputs": [
        {
          "output_type": "execute_result",
          "data": {
            "text/plain": [
              "   anime_id                              name  \\\n",
              "0     32281                    Kimi no Na wa.   \n",
              "1      5114  Fullmetal Alchemist: Brotherhood   \n",
              "2     28977                          Gintama°   \n",
              "3      9253                       Steins;Gate   \n",
              "4      9969                     Gintama&#039;   \n",
              "\n",
              "                                               genre   type episodes  rating  \\\n",
              "0               Drama, Romance, School, Supernatural  Movie        1    9.37   \n",
              "1  Action, Adventure, Drama, Fantasy, Magic, Mili...     TV       64    9.26   \n",
              "2  Action, Comedy, Historical, Parody, Samurai, S...     TV       51    9.25   \n",
              "3                                   Sci-Fi, Thriller     TV       24    9.17   \n",
              "4  Action, Comedy, Historical, Parody, Samurai, S...     TV       51    9.16   \n",
              "\n",
              "   members  \n",
              "0   200630  \n",
              "1   793665  \n",
              "2   114262  \n",
              "3   673572  \n",
              "4   151266  "
            ],
            "text/html": [
              "\n",
              "  <div id=\"df-41ee5629-443c-4087-9729-9ea64dcbe3c1\" class=\"colab-df-container\">\n",
              "    <div>\n",
              "<style scoped>\n",
              "    .dataframe tbody tr th:only-of-type {\n",
              "        vertical-align: middle;\n",
              "    }\n",
              "\n",
              "    .dataframe tbody tr th {\n",
              "        vertical-align: top;\n",
              "    }\n",
              "\n",
              "    .dataframe thead th {\n",
              "        text-align: right;\n",
              "    }\n",
              "</style>\n",
              "<table border=\"1\" class=\"dataframe\">\n",
              "  <thead>\n",
              "    <tr style=\"text-align: right;\">\n",
              "      <th></th>\n",
              "      <th>anime_id</th>\n",
              "      <th>name</th>\n",
              "      <th>genre</th>\n",
              "      <th>type</th>\n",
              "      <th>episodes</th>\n",
              "      <th>rating</th>\n",
              "      <th>members</th>\n",
              "    </tr>\n",
              "  </thead>\n",
              "  <tbody>\n",
              "    <tr>\n",
              "      <th>0</th>\n",
              "      <td>32281</td>\n",
              "      <td>Kimi no Na wa.</td>\n",
              "      <td>Drama, Romance, School, Supernatural</td>\n",
              "      <td>Movie</td>\n",
              "      <td>1</td>\n",
              "      <td>9.37</td>\n",
              "      <td>200630</td>\n",
              "    </tr>\n",
              "    <tr>\n",
              "      <th>1</th>\n",
              "      <td>5114</td>\n",
              "      <td>Fullmetal Alchemist: Brotherhood</td>\n",
              "      <td>Action, Adventure, Drama, Fantasy, Magic, Mili...</td>\n",
              "      <td>TV</td>\n",
              "      <td>64</td>\n",
              "      <td>9.26</td>\n",
              "      <td>793665</td>\n",
              "    </tr>\n",
              "    <tr>\n",
              "      <th>2</th>\n",
              "      <td>28977</td>\n",
              "      <td>Gintama°</td>\n",
              "      <td>Action, Comedy, Historical, Parody, Samurai, S...</td>\n",
              "      <td>TV</td>\n",
              "      <td>51</td>\n",
              "      <td>9.25</td>\n",
              "      <td>114262</td>\n",
              "    </tr>\n",
              "    <tr>\n",
              "      <th>3</th>\n",
              "      <td>9253</td>\n",
              "      <td>Steins;Gate</td>\n",
              "      <td>Sci-Fi, Thriller</td>\n",
              "      <td>TV</td>\n",
              "      <td>24</td>\n",
              "      <td>9.17</td>\n",
              "      <td>673572</td>\n",
              "    </tr>\n",
              "    <tr>\n",
              "      <th>4</th>\n",
              "      <td>9969</td>\n",
              "      <td>Gintama&amp;#039;</td>\n",
              "      <td>Action, Comedy, Historical, Parody, Samurai, S...</td>\n",
              "      <td>TV</td>\n",
              "      <td>51</td>\n",
              "      <td>9.16</td>\n",
              "      <td>151266</td>\n",
              "    </tr>\n",
              "  </tbody>\n",
              "</table>\n",
              "</div>\n",
              "    <div class=\"colab-df-buttons\">\n",
              "\n",
              "  <div class=\"colab-df-container\">\n",
              "    <button class=\"colab-df-convert\" onclick=\"convertToInteractive('df-41ee5629-443c-4087-9729-9ea64dcbe3c1')\"\n",
              "            title=\"Convert this dataframe to an interactive table.\"\n",
              "            style=\"display:none;\">\n",
              "\n",
              "  <svg xmlns=\"http://www.w3.org/2000/svg\" height=\"24px\" viewBox=\"0 -960 960 960\">\n",
              "    <path d=\"M120-120v-720h720v720H120Zm60-500h600v-160H180v160Zm220 220h160v-160H400v160Zm0 220h160v-160H400v160ZM180-400h160v-160H180v160Zm440 0h160v-160H620v160ZM180-180h160v-160H180v160Zm440 0h160v-160H620v160Z\"/>\n",
              "  </svg>\n",
              "    </button>\n",
              "\n",
              "  <style>\n",
              "    .colab-df-container {\n",
              "      display:flex;\n",
              "      gap: 12px;\n",
              "    }\n",
              "\n",
              "    .colab-df-convert {\n",
              "      background-color: #E8F0FE;\n",
              "      border: none;\n",
              "      border-radius: 50%;\n",
              "      cursor: pointer;\n",
              "      display: none;\n",
              "      fill: #1967D2;\n",
              "      height: 32px;\n",
              "      padding: 0 0 0 0;\n",
              "      width: 32px;\n",
              "    }\n",
              "\n",
              "    .colab-df-convert:hover {\n",
              "      background-color: #E2EBFA;\n",
              "      box-shadow: 0px 1px 2px rgba(60, 64, 67, 0.3), 0px 1px 3px 1px rgba(60, 64, 67, 0.15);\n",
              "      fill: #174EA6;\n",
              "    }\n",
              "\n",
              "    .colab-df-buttons div {\n",
              "      margin-bottom: 4px;\n",
              "    }\n",
              "\n",
              "    [theme=dark] .colab-df-convert {\n",
              "      background-color: #3B4455;\n",
              "      fill: #D2E3FC;\n",
              "    }\n",
              "\n",
              "    [theme=dark] .colab-df-convert:hover {\n",
              "      background-color: #434B5C;\n",
              "      box-shadow: 0px 1px 3px 1px rgba(0, 0, 0, 0.15);\n",
              "      filter: drop-shadow(0px 1px 2px rgba(0, 0, 0, 0.3));\n",
              "      fill: #FFFFFF;\n",
              "    }\n",
              "  </style>\n",
              "\n",
              "    <script>\n",
              "      const buttonEl =\n",
              "        document.querySelector('#df-41ee5629-443c-4087-9729-9ea64dcbe3c1 button.colab-df-convert');\n",
              "      buttonEl.style.display =\n",
              "        google.colab.kernel.accessAllowed ? 'block' : 'none';\n",
              "\n",
              "      async function convertToInteractive(key) {\n",
              "        const element = document.querySelector('#df-41ee5629-443c-4087-9729-9ea64dcbe3c1');\n",
              "        const dataTable =\n",
              "          await google.colab.kernel.invokeFunction('convertToInteractive',\n",
              "                                                    [key], {});\n",
              "        if (!dataTable) return;\n",
              "\n",
              "        const docLinkHtml = 'Like what you see? Visit the ' +\n",
              "          '<a target=\"_blank\" href=https://colab.research.google.com/notebooks/data_table.ipynb>data table notebook</a>'\n",
              "          + ' to learn more about interactive tables.';\n",
              "        element.innerHTML = '';\n",
              "        dataTable['output_type'] = 'display_data';\n",
              "        await google.colab.output.renderOutput(dataTable, element);\n",
              "        const docLink = document.createElement('div');\n",
              "        docLink.innerHTML = docLinkHtml;\n",
              "        element.appendChild(docLink);\n",
              "      }\n",
              "    </script>\n",
              "  </div>\n",
              "\n",
              "\n",
              "<div id=\"df-f03c5958-35d2-4deb-8b0a-a121db3f0ca5\">\n",
              "  <button class=\"colab-df-quickchart\" onclick=\"quickchart('df-f03c5958-35d2-4deb-8b0a-a121db3f0ca5')\"\n",
              "            title=\"Suggest charts.\"\n",
              "            style=\"display:none;\">\n",
              "\n",
              "<svg xmlns=\"http://www.w3.org/2000/svg\" height=\"24px\"viewBox=\"0 0 24 24\"\n",
              "     width=\"24px\">\n",
              "    <g>\n",
              "        <path d=\"M19 3H5c-1.1 0-2 .9-2 2v14c0 1.1.9 2 2 2h14c1.1 0 2-.9 2-2V5c0-1.1-.9-2-2-2zM9 17H7v-7h2v7zm4 0h-2V7h2v10zm4 0h-2v-4h2v4z\"/>\n",
              "    </g>\n",
              "</svg>\n",
              "  </button>\n",
              "\n",
              "<style>\n",
              "  .colab-df-quickchart {\n",
              "      --bg-color: #E8F0FE;\n",
              "      --fill-color: #1967D2;\n",
              "      --hover-bg-color: #E2EBFA;\n",
              "      --hover-fill-color: #174EA6;\n",
              "      --disabled-fill-color: #AAA;\n",
              "      --disabled-bg-color: #DDD;\n",
              "  }\n",
              "\n",
              "  [theme=dark] .colab-df-quickchart {\n",
              "      --bg-color: #3B4455;\n",
              "      --fill-color: #D2E3FC;\n",
              "      --hover-bg-color: #434B5C;\n",
              "      --hover-fill-color: #FFFFFF;\n",
              "      --disabled-bg-color: #3B4455;\n",
              "      --disabled-fill-color: #666;\n",
              "  }\n",
              "\n",
              "  .colab-df-quickchart {\n",
              "    background-color: var(--bg-color);\n",
              "    border: none;\n",
              "    border-radius: 50%;\n",
              "    cursor: pointer;\n",
              "    display: none;\n",
              "    fill: var(--fill-color);\n",
              "    height: 32px;\n",
              "    padding: 0;\n",
              "    width: 32px;\n",
              "  }\n",
              "\n",
              "  .colab-df-quickchart:hover {\n",
              "    background-color: var(--hover-bg-color);\n",
              "    box-shadow: 0 1px 2px rgba(60, 64, 67, 0.3), 0 1px 3px 1px rgba(60, 64, 67, 0.15);\n",
              "    fill: var(--button-hover-fill-color);\n",
              "  }\n",
              "\n",
              "  .colab-df-quickchart-complete:disabled,\n",
              "  .colab-df-quickchart-complete:disabled:hover {\n",
              "    background-color: var(--disabled-bg-color);\n",
              "    fill: var(--disabled-fill-color);\n",
              "    box-shadow: none;\n",
              "  }\n",
              "\n",
              "  .colab-df-spinner {\n",
              "    border: 2px solid var(--fill-color);\n",
              "    border-color: transparent;\n",
              "    border-bottom-color: var(--fill-color);\n",
              "    animation:\n",
              "      spin 1s steps(1) infinite;\n",
              "  }\n",
              "\n",
              "  @keyframes spin {\n",
              "    0% {\n",
              "      border-color: transparent;\n",
              "      border-bottom-color: var(--fill-color);\n",
              "      border-left-color: var(--fill-color);\n",
              "    }\n",
              "    20% {\n",
              "      border-color: transparent;\n",
              "      border-left-color: var(--fill-color);\n",
              "      border-top-color: var(--fill-color);\n",
              "    }\n",
              "    30% {\n",
              "      border-color: transparent;\n",
              "      border-left-color: var(--fill-color);\n",
              "      border-top-color: var(--fill-color);\n",
              "      border-right-color: var(--fill-color);\n",
              "    }\n",
              "    40% {\n",
              "      border-color: transparent;\n",
              "      border-right-color: var(--fill-color);\n",
              "      border-top-color: var(--fill-color);\n",
              "    }\n",
              "    60% {\n",
              "      border-color: transparent;\n",
              "      border-right-color: var(--fill-color);\n",
              "    }\n",
              "    80% {\n",
              "      border-color: transparent;\n",
              "      border-right-color: var(--fill-color);\n",
              "      border-bottom-color: var(--fill-color);\n",
              "    }\n",
              "    90% {\n",
              "      border-color: transparent;\n",
              "      border-bottom-color: var(--fill-color);\n",
              "    }\n",
              "  }\n",
              "</style>\n",
              "\n",
              "  <script>\n",
              "    async function quickchart(key) {\n",
              "      const quickchartButtonEl =\n",
              "        document.querySelector('#' + key + ' button');\n",
              "      quickchartButtonEl.disabled = true;  // To prevent multiple clicks.\n",
              "      quickchartButtonEl.classList.add('colab-df-spinner');\n",
              "      try {\n",
              "        const charts = await google.colab.kernel.invokeFunction(\n",
              "            'suggestCharts', [key], {});\n",
              "      } catch (error) {\n",
              "        console.error('Error during call to suggestCharts:', error);\n",
              "      }\n",
              "      quickchartButtonEl.classList.remove('colab-df-spinner');\n",
              "      quickchartButtonEl.classList.add('colab-df-quickchart-complete');\n",
              "    }\n",
              "    (() => {\n",
              "      let quickchartButtonEl =\n",
              "        document.querySelector('#df-f03c5958-35d2-4deb-8b0a-a121db3f0ca5 button');\n",
              "      quickchartButtonEl.style.display =\n",
              "        google.colab.kernel.accessAllowed ? 'block' : 'none';\n",
              "    })();\n",
              "  </script>\n",
              "</div>\n",
              "    </div>\n",
              "  </div>\n"
            ]
          },
          "metadata": {},
          "execution_count": 3
        }
      ]
    },
    {
      "cell_type": "code",
      "source": [
        "data.info()"
      ],
      "metadata": {
        "colab": {
          "base_uri": "https://localhost:8080/"
        },
        "id": "AOpsQY-vABV_",
        "outputId": "220b9690-660c-455a-f9bd-83f2f15a2c11"
      },
      "execution_count": null,
      "outputs": [
        {
          "output_type": "stream",
          "name": "stdout",
          "text": [
            "<class 'pandas.core.frame.DataFrame'>\n",
            "RangeIndex: 12294 entries, 0 to 12293\n",
            "Data columns (total 7 columns):\n",
            " #   Column    Non-Null Count  Dtype  \n",
            "---  ------    --------------  -----  \n",
            " 0   anime_id  12294 non-null  int64  \n",
            " 1   name      12294 non-null  object \n",
            " 2   genre     12232 non-null  object \n",
            " 3   type      12269 non-null  object \n",
            " 4   episodes  12294 non-null  object \n",
            " 5   rating    12064 non-null  float64\n",
            " 6   members   12294 non-null  int64  \n",
            "dtypes: float64(1), int64(2), object(4)\n",
            "memory usage: 672.5+ KB\n"
          ]
        }
      ]
    },
    {
      "cell_type": "code",
      "source": [
        "# Data Preprocessing\n",
        "# Fill missing ratings with a suitable value, for example, the mean rating\n",
        "data['rating'].fillna(data['rating'].mean(), inplace=True)"
      ],
      "metadata": {
        "id": "w-2PLSJmADLL"
      },
      "execution_count": null,
      "outputs": []
    },
    {
      "cell_type": "code",
      "source": [
        "# Normalize the rating values for clustering\n",
        "scaler = StandardScaler()\n",
        "data['rating_normalized'] = scaler.fit_transform(data['rating'].values.reshape(-1, 1))"
      ],
      "metadata": {
        "id": "BIK-uhtfANK_"
      },
      "execution_count": null,
      "outputs": []
    },
    {
      "cell_type": "code",
      "source": [
        "# Create genre features using one-hot encoding\n",
        "genres = data['genre'].str.get_dummies(sep=', ')\n",
        "print(genres)"
      ],
      "metadata": {
        "id": "G0pfYNovATKB",
        "colab": {
          "base_uri": "https://localhost:8080/"
        },
        "outputId": "bda3743e-bc1c-4d15-b20d-33bba21f8c0b"
      },
      "execution_count": null,
      "outputs": [
        {
          "output_type": "stream",
          "name": "stdout",
          "text": [
            "       Action  Adventure  Cars  Comedy  Dementia  Demons  Drama  Ecchi  \\\n",
            "0           0          0     0       0         0       0      1      0   \n",
            "1           1          1     0       0         0       0      1      0   \n",
            "2           1          0     0       1         0       0      0      0   \n",
            "3           0          0     0       0         0       0      0      0   \n",
            "4           1          0     0       1         0       0      0      0   \n",
            "...       ...        ...   ...     ...       ...     ...    ...    ...   \n",
            "12289       0          0     0       0         0       0      0      0   \n",
            "12290       0          0     0       0         0       0      0      0   \n",
            "12291       0          0     0       0         0       0      0      0   \n",
            "12292       0          0     0       0         0       0      0      0   \n",
            "12293       0          0     0       0         0       0      0      0   \n",
            "\n",
            "       Fantasy  Game  ...  Shounen Ai  Slice of Life  Space  Sports  \\\n",
            "0            0     0  ...           0              0      0       0   \n",
            "1            1     0  ...           0              0      0       0   \n",
            "2            0     0  ...           0              0      0       0   \n",
            "3            0     0  ...           0              0      0       0   \n",
            "4            0     0  ...           0              0      0       0   \n",
            "...        ...   ...  ...         ...            ...    ...     ...   \n",
            "12289        0     0  ...           0              0      0       0   \n",
            "12290        0     0  ...           0              0      0       0   \n",
            "12291        0     0  ...           0              0      0       0   \n",
            "12292        0     0  ...           0              0      0       0   \n",
            "12293        0     0  ...           0              0      0       0   \n",
            "\n",
            "       Super Power  Supernatural  Thriller  Vampire  Yaoi  Yuri  \n",
            "0                0             1         0        0     0     0  \n",
            "1                0             0         0        0     0     0  \n",
            "2                0             0         0        0     0     0  \n",
            "3                0             0         1        0     0     0  \n",
            "4                0             0         0        0     0     0  \n",
            "...            ...           ...       ...      ...   ...   ...  \n",
            "12289            0             0         0        0     0     0  \n",
            "12290            0             0         0        0     0     0  \n",
            "12291            0             0         0        0     0     0  \n",
            "12292            0             0         0        0     0     0  \n",
            "12293            0             0         0        0     0     0  \n",
            "\n",
            "[12294 rows x 43 columns]\n"
          ]
        }
      ]
    },
    {
      "cell_type": "code",
      "source": [
        "data = pd.concat([data, genres], axis=1)\n",
        "print(data)"
      ],
      "metadata": {
        "colab": {
          "base_uri": "https://localhost:8080/"
        },
        "id": "Be277OgVCI2L",
        "outputId": "7502c902-9f24-446f-c029-ab0bb5854036"
      },
      "execution_count": null,
      "outputs": [
        {
          "output_type": "stream",
          "name": "stdout",
          "text": [
            "       anime_id                                               name  \\\n",
            "0         32281                                     Kimi no Na wa.   \n",
            "1          5114                   Fullmetal Alchemist: Brotherhood   \n",
            "2         28977                                           Gintama°   \n",
            "3          9253                                        Steins;Gate   \n",
            "4          9969                                      Gintama&#039;   \n",
            "...         ...                                                ...   \n",
            "12289      9316       Toushindai My Lover: Minami tai Mecha-Minami   \n",
            "12290      5543                                        Under World   \n",
            "12291      5621                     Violence Gekiga David no Hoshi   \n",
            "12292      6133  Violence Gekiga Shin David no Hoshi: Inma Dens...   \n",
            "12293     26081                   Yasuji no Pornorama: Yacchimae!!   \n",
            "\n",
            "                                                   genre   type episodes  \\\n",
            "0                   Drama, Romance, School, Supernatural  Movie        1   \n",
            "1      Action, Adventure, Drama, Fantasy, Magic, Mili...     TV       64   \n",
            "2      Action, Comedy, Historical, Parody, Samurai, S...     TV       51   \n",
            "3                                       Sci-Fi, Thriller     TV       24   \n",
            "4      Action, Comedy, Historical, Parody, Samurai, S...     TV       51   \n",
            "...                                                  ...    ...      ...   \n",
            "12289                                             Hentai    OVA        1   \n",
            "12290                                             Hentai    OVA        1   \n",
            "12291                                             Hentai    OVA        4   \n",
            "12292                                             Hentai    OVA        1   \n",
            "12293                                             Hentai  Movie        1   \n",
            "\n",
            "       rating  members  rating_normalized  Action  Adventure  ...  Shounen Ai  \\\n",
            "0        9.37   200630           2.847535       0          0  ...           0   \n",
            "1        9.26   793665           2.739380       1          1  ...           0   \n",
            "2        9.25   114262           2.729547       1          0  ...           0   \n",
            "3        9.17   673572           2.650889       0          0  ...           0   \n",
            "4        9.16   151266           2.641057       1          0  ...           0   \n",
            "...       ...      ...                ...     ...        ...  ...         ...   \n",
            "12289    4.15      211          -2.284933       0          0  ...           0   \n",
            "12290    4.28      183          -2.157113       0          0  ...           0   \n",
            "12291    4.88      219          -1.567174       0          0  ...           0   \n",
            "12292    4.98      175          -1.468851       0          0  ...           0   \n",
            "12293    5.46      142          -0.996900       0          0  ...           0   \n",
            "\n",
            "       Slice of Life  Space  Sports  Super Power  Supernatural  Thriller  \\\n",
            "0                  0      0       0            0             1         0   \n",
            "1                  0      0       0            0             0         0   \n",
            "2                  0      0       0            0             0         0   \n",
            "3                  0      0       0            0             0         1   \n",
            "4                  0      0       0            0             0         0   \n",
            "...              ...    ...     ...          ...           ...       ...   \n",
            "12289              0      0       0            0             0         0   \n",
            "12290              0      0       0            0             0         0   \n",
            "12291              0      0       0            0             0         0   \n",
            "12292              0      0       0            0             0         0   \n",
            "12293              0      0       0            0             0         0   \n",
            "\n",
            "       Vampire  Yaoi  Yuri  \n",
            "0            0     0     0  \n",
            "1            0     0     0  \n",
            "2            0     0     0  \n",
            "3            0     0     0  \n",
            "4            0     0     0  \n",
            "...        ...   ...   ...  \n",
            "12289        0     0     0  \n",
            "12290        0     0     0  \n",
            "12291        0     0     0  \n",
            "12292        0     0     0  \n",
            "12293        0     0     0  \n",
            "\n",
            "[12294 rows x 51 columns]\n"
          ]
        }
      ]
    },
    {
      "cell_type": "code",
      "source": [],
      "metadata": {
        "id": "7b_QmQJ3BmX4"
      },
      "execution_count": null,
      "outputs": []
    },
    {
      "cell_type": "code",
      "source": [
        "# Perform KMeans clustering\n",
        "kmeans = KMeans(n_clusters=10, random_state=42)\n",
        "data['cluster'] = kmeans.fit_predict(data.iloc[:, 9:])  # Starting from the 'rating_normalized' column"
      ],
      "metadata": {
        "colab": {
          "base_uri": "https://localhost:8080/"
        },
        "id": "vcQWoRqVAc0N",
        "outputId": "35e5e27e-52a3-4a39-98e3-e4f1d7fbadb9"
      },
      "execution_count": null,
      "outputs": [
        {
          "output_type": "stream",
          "name": "stderr",
          "text": [
            "/usr/local/lib/python3.10/dist-packages/sklearn/cluster/_kmeans.py:870: FutureWarning: The default value of `n_init` will change from 10 to 'auto' in 1.4. Set the value of `n_init` explicitly to suppress the warning\n",
            "  warnings.warn(\n"
          ]
        }
      ]
    },
    {
      "cell_type": "code",
      "source": [
        "# User Input\n",
        "user_anime = input('Enter the anime you like and we will find more like those for you: ').lower()\n",
        "# Get the cluster of the user's selected anime\n",
        "user_cluster = int(data[data['name'].str.lower() == user_anime]['cluster'])\n"
      ],
      "metadata": {
        "colab": {
          "base_uri": "https://localhost:8080/"
        },
        "id": "O1865lrjAhBy",
        "outputId": "39f0fc37-91d9-4426-f36e-f8506d6d8fcb"
      },
      "execution_count": null,
      "outputs": [
        {
          "name": "stdout",
          "output_type": "stream",
          "text": [
            "Enter the anime you like and we will find more like those for you: Gintama\n"
          ]
        }
      ]
    },
    {
      "cell_type": "code",
      "source": [
        "# Get all anime in the same cluster as the user's anime\n",
        "cluster_anime = data[data['cluster'] == user_cluster]"
      ],
      "metadata": {
        "id": "RqxvMnG9Ajts"
      },
      "execution_count": null,
      "outputs": []
    },
    {
      "cell_type": "code",
      "source": [
        "# Calculate recommendations based on genre similarity and ratings\n",
        "recommendations = []\n",
        "\n",
        "for i, anime in cluster_anime.iterrows():\n",
        "    if anime['name'].lower() != user_anime:\n",
        "        euclidean_distance = distance.euclidean(anime.iloc[9:-3], cluster_anime[cluster_anime['name'].str.lower() == user_anime].iloc[0, 9:-3])\n",
        "        recommendations.append((anime['name'], anime['rating'], euclidean_distance))\n",
        "\n",
        "# Sort recommendations by a combination of rating and genre similarity\n",
        "recommendations.sort(key=lambda x: (x[1], x[2]), reverse=True)"
      ],
      "metadata": {
        "id": "AyDca_CRAq-F"
      },
      "execution_count": null,
      "outputs": []
    },
    {
      "cell_type": "code",
      "source": [
        "# Prompt the user for the number of recommendations\n",
        "num_recommendations = int(input('How many recommendations do you want? '))\n",
        "# Print the recommended anime titles and their ratings\n",
        "for i, (name, rating, distance) in enumerate(recommendations[:num_recommendations]):\n",
        "    print(f'{i + 1}. {name} (Rating: {rating:.2f}, Genre Similarity: {distance:.2f})')\n"
      ],
      "metadata": {
        "colab": {
          "base_uri": "https://localhost:8080/"
        },
        "id": "eE7dvzBLA6jB",
        "outputId": "9efdfaf2-1a93-49e6-dd1f-cc65efd82a59"
      },
      "execution_count": null,
      "outputs": [
        {
          "output_type": "stream",
          "name": "stdout",
          "text": [
            "How many recommendations do you want? 5\n",
            "1. Gintama° (Rating: 9.25, Genre Similarity: 0.00)\n",
            "2. Gintama&#039; (Rating: 9.16, Genre Similarity: 0.00)\n",
            "3. Hunter x Hunter (2011) (Rating: 9.13, Genre Similarity: 2.65)\n",
            "4. Gintama&#039;: Enchousen (Rating: 9.11, Genre Similarity: 0.00)\n",
            "5. Gintama Movie: Kanketsu-hen - Yorozuya yo Eien Nare (Rating: 9.10, Genre Similarity: 0.00)\n"
          ]
        }
      ]
    }
  ]
}